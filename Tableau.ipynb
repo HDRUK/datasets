{
 "cells": [
  {
   "cell_type": "markdown",
   "metadata": {},
   "source": [
    "# Data Utility\n",
    "MetadataWorks"
   ]
  },
  {
   "cell_type": "code",
   "execution_count": 1,
   "metadata": {},
   "outputs": [
    {
     "name": "stdout",
     "output_type": "stream",
     "text": [
      "Python==3.7.6\n",
      "numpy==1.18.1\n",
      "pandas==1.0.3\n"
     ]
    }
   ],
   "source": [
    "# load packages\n",
    "import pandas as pd\n",
    "import numpy as np\n",
    "import os\n",
    "\n",
    "# package versions\n",
    "from platform import python_version\n",
    "print(f\"Python=={python_version()}\")\n",
    "print(f\"numpy=={np.__version__}\")\n",
    "print(f\"pandas=={pd.__version__}\")"
   ]
  },
  {
   "cell_type": "code",
   "execution_count": 3,
   "metadata": {},
   "outputs": [
    {
     "data": {
      "text/html": [
       "<div>\n",
       "<style scoped>\n",
       "    .dataframe tbody tr th:only-of-type {\n",
       "        vertical-align: middle;\n",
       "    }\n",
       "\n",
       "    .dataframe tbody tr th {\n",
       "        vertical-align: top;\n",
       "    }\n",
       "\n",
       "    .dataframe thead th {\n",
       "        text-align: right;\n",
       "    }\n",
       "</style>\n",
       "<table border=\"1\" class=\"dataframe\">\n",
       "  <thead>\n",
       "    <tr style=\"text-align: right;\">\n",
       "      <th></th>\n",
       "      <th>weighted_quality_score</th>\n",
       "      <th>weighted_completeness_percent</th>\n",
       "      <th>error_percent</th>\n",
       "      <th>publisher</th>\n",
       "      <th>completeness_percent</th>\n",
       "      <th>id</th>\n",
       "      <th>title</th>\n",
       "      <th>quality_rating</th>\n",
       "      <th>weighted_error_percent</th>\n",
       "      <th>weighted_quality_rating</th>\n",
       "      <th>quality_score</th>\n",
       "    </tr>\n",
       "  </thead>\n",
       "  <tbody>\n",
       "    <tr>\n",
       "      <th>0</th>\n",
       "      <td>48.90</td>\n",
       "      <td>23.6</td>\n",
       "      <td>30.23</td>\n",
       "      <td>ALLIANCE &gt; NIHR BIORESOURCE</td>\n",
       "      <td>26.19</td>\n",
       "      <td>004d1932-f06e-49d2-b87a-e5e4140ffbb3</td>\n",
       "      <td>Metabolite data</td>\n",
       "      <td>Not Rated</td>\n",
       "      <td>25.8</td>\n",
       "      <td>Not Rated</td>\n",
       "      <td>47.98</td>\n",
       "    </tr>\n",
       "    <tr>\n",
       "      <th>1</th>\n",
       "      <td>42.95</td>\n",
       "      <td>15.0</td>\n",
       "      <td>37.21</td>\n",
       "      <td>University of Dundee Health Informatics Centre</td>\n",
       "      <td>16.67</td>\n",
       "      <td>00589ec6-f42a-4f6e-af68-665cf7ec8dde</td>\n",
       "      <td>Renal Register – ISD National dataset</td>\n",
       "      <td>Not Rated</td>\n",
       "      <td>29.1</td>\n",
       "      <td>Not Rated</td>\n",
       "      <td>39.73</td>\n",
       "    </tr>\n",
       "    <tr>\n",
       "      <th>2</th>\n",
       "      <td>48.90</td>\n",
       "      <td>23.6</td>\n",
       "      <td>30.23</td>\n",
       "      <td>ALLIANCE &gt; HQIP</td>\n",
       "      <td>26.19</td>\n",
       "      <td>0092dc60-a0af-4d45-801c-b888210d6609</td>\n",
       "      <td>National Joint Registry - Primary Elbow Replac...</td>\n",
       "      <td>Not Rated</td>\n",
       "      <td>25.8</td>\n",
       "      <td>Not Rated</td>\n",
       "      <td>47.98</td>\n",
       "    </tr>\n",
       "    <tr>\n",
       "      <th>3</th>\n",
       "      <td>75.60</td>\n",
       "      <td>63.1</td>\n",
       "      <td>18.60</td>\n",
       "      <td>ALLIANCE &gt; SCOTLAND</td>\n",
       "      <td>71.43</td>\n",
       "      <td>01728d51-19eb-4527-8add-6b660cb557cc</td>\n",
       "      <td>Scotland Accident and Emergency</td>\n",
       "      <td>Silver</td>\n",
       "      <td>11.9</td>\n",
       "      <td>Silver</td>\n",
       "      <td>76.42</td>\n",
       "    </tr>\n",
       "    <tr>\n",
       "      <th>4</th>\n",
       "      <td>48.90</td>\n",
       "      <td>23.6</td>\n",
       "      <td>30.23</td>\n",
       "      <td>ALLIANCE &gt; HQIP</td>\n",
       "      <td>26.19</td>\n",
       "      <td>0217114b-6847-4aae-9d76-4d52acea2bcc</td>\n",
       "      <td>Paediatric Intensive Care Audit Network - core...</td>\n",
       "      <td>Not Rated</td>\n",
       "      <td>25.8</td>\n",
       "      <td>Not Rated</td>\n",
       "      <td>47.98</td>\n",
       "    </tr>\n",
       "  </tbody>\n",
       "</table>\n",
       "</div>"
      ],
      "text/plain": [
       "   weighted_quality_score  weighted_completeness_percent  error_percent  \\\n",
       "0                   48.90                           23.6          30.23   \n",
       "1                   42.95                           15.0          37.21   \n",
       "2                   48.90                           23.6          30.23   \n",
       "3                   75.60                           63.1          18.60   \n",
       "4                   48.90                           23.6          30.23   \n",
       "\n",
       "                                        publisher  completeness_percent  \\\n",
       "0                     ALLIANCE > NIHR BIORESOURCE                 26.19   \n",
       "1  University of Dundee Health Informatics Centre                 16.67   \n",
       "2                                 ALLIANCE > HQIP                 26.19   \n",
       "3                             ALLIANCE > SCOTLAND                 71.43   \n",
       "4                                 ALLIANCE > HQIP                 26.19   \n",
       "\n",
       "                                     id  \\\n",
       "0  004d1932-f06e-49d2-b87a-e5e4140ffbb3   \n",
       "1  00589ec6-f42a-4f6e-af68-665cf7ec8dde   \n",
       "2  0092dc60-a0af-4d45-801c-b888210d6609   \n",
       "3  01728d51-19eb-4527-8add-6b660cb557cc   \n",
       "4  0217114b-6847-4aae-9d76-4d52acea2bcc   \n",
       "\n",
       "                                               title quality_rating  \\\n",
       "0                                    Metabolite data      Not Rated   \n",
       "1              Renal Register – ISD National dataset      Not Rated   \n",
       "2  National Joint Registry - Primary Elbow Replac...      Not Rated   \n",
       "3                    Scotland Accident and Emergency         Silver   \n",
       "4  Paediatric Intensive Care Audit Network - core...      Not Rated   \n",
       "\n",
       "   weighted_error_percent weighted_quality_rating  quality_score  \n",
       "0                    25.8               Not Rated          47.98  \n",
       "1                    29.1               Not Rated          39.73  \n",
       "2                    25.8               Not Rated          47.98  \n",
       "3                    11.9                  Silver          76.42  \n",
       "4                    25.8               Not Rated          47.98  "
      ]
     },
     "execution_count": 3,
     "metadata": {},
     "output_type": "execute_result"
    }
   ],
   "source": [
    "# load data\n",
    "df_quality = pd.read_csv(f\"reports/metadata_quality.csv\")\n",
    "df_quality.head()"
   ]
  },
  {
   "cell_type": "code",
   "execution_count": 4,
   "metadata": {},
   "outputs": [
    {
     "data": {
      "text/plain": [
       "(443, 11)"
      ]
     },
     "execution_count": 4,
     "metadata": {},
     "output_type": "execute_result"
    }
   ],
   "source": [
    "df_quality.shape"
   ]
  },
  {
   "cell_type": "code",
   "execution_count": 7,
   "metadata": {},
   "outputs": [
    {
     "data": {
      "text/plain": [
       "33"
      ]
     },
     "execution_count": 7,
     "metadata": {},
     "output_type": "execute_result"
    }
   ],
   "source": [
    "len(df_quality.publisher.unique())"
   ]
  },
  {
   "cell_type": "code",
   "execution_count": null,
   "metadata": {},
   "outputs": [],
   "source": []
  }
 ],
 "metadata": {
  "kernelspec": {
   "display_name": "Python 3",
   "language": "python",
   "name": "python3"
  },
  "language_info": {
   "codemirror_mode": {
    "name": "ipython",
    "version": 3
   },
   "file_extension": ".py",
   "mimetype": "text/x-python",
   "name": "python",
   "nbconvert_exporter": "python",
   "pygments_lexer": "ipython3",
   "version": "3.7.6"
  }
 },
 "nbformat": 4,
 "nbformat_minor": 4
}
